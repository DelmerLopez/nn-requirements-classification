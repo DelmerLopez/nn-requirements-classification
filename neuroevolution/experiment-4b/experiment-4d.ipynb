{
  "nbformat": 4,
  "nbformat_minor": 0,
  "metadata": {
    "colab": {
      "name": "Untitled0.ipynb",
      "provenance": [],
      "authorship_tag": "ABX9TyOIL5rBEMZ8dwOJNPyPcpfq",
      "include_colab_link": true
    },
    "kernelspec": {
      "name": "python3",
      "display_name": "Python 3"
    },
    "language_info": {
      "name": "python"
    }
  },
  "cells": [
    {
      "cell_type": "markdown",
      "metadata": {
        "id": "view-in-github",
        "colab_type": "text"
      },
      "source": [
        "<a href=\"https://colab.research.google.com/github/DelmerLopez/nn-requirements-classification/blob/main/neuroevolution/experiment-4b/experiment-4d.ipynb\" target=\"_parent\"><img src=\"https://colab.research.google.com/assets/colab-badge.svg\" alt=\"Open In Colab\"/></a>"
      ]
    },
    {
      "cell_type": "code",
      "metadata": {
        "colab": {
          "base_uri": "https://localhost:8080/"
        },
        "id": "XCV9TFcQ6L4Z",
        "outputId": "c88852f7-efcc-46a1-ed8d-93fb984b8028"
      },
      "source": [
        "pip install neat-python"
      ],
      "execution_count": 1,
      "outputs": [
        {
          "output_type": "stream",
          "text": [
            "Collecting neat-python\n",
            "\u001b[?25l  Downloading https://files.pythonhosted.org/packages/96/6f/e7074d9c869174c9b7379bd5820f8a774382937053a92c024f0a159e3e05/neat_python-0.92-py3-none-any.whl (44kB)\n",
            "\r\u001b[K     |███████▍                        | 10kB 14.9MB/s eta 0:00:01\r\u001b[K     |██████████████▉                 | 20kB 20.9MB/s eta 0:00:01\r\u001b[K     |██████████████████████▎         | 30kB 10.5MB/s eta 0:00:01\r\u001b[K     |█████████████████████████████▋  | 40kB 8.4MB/s eta 0:00:01\r\u001b[K     |████████████████████████████████| 51kB 3.2MB/s \n",
            "\u001b[?25hInstalling collected packages: neat-python\n",
            "Successfully installed neat-python-0.92\n"
          ],
          "name": "stdout"
        }
      ]
    },
    {
      "cell_type": "code",
      "metadata": {
        "id": "E_u7wdZD6Qzo"
      },
      "source": [
        "import neat\n",
        "import pickle\n",
        "import numpy as np\n",
        "import sys\n",
        "\n",
        "x_train_data = pickle.load(open(\"drive/MyDrive/neat-config/X_train.pickle\", \"rb\"))\n",
        "x_test_data = pickle.load(open(\"drive/MyDrive/neat-config/X_test.pickle\", \"rb\"))\n",
        "y_train_data = pickle.load(open(\"drive/MyDrive/neat-config/y_train.pickle\", \"rb\"))\n",
        "y_test_data = pickle.load(open(\"drive/MyDrive/neat-config/y_test.pickle\", \"rb\"))\n",
        "\n",
        "y_data = np.append(y_train_data, y_test_data)\n",
        "\n",
        "X = []\n",
        "y = []\n",
        "\n",
        "for x in x_train_data:\n",
        "    X.append(x)\n",
        "\n",
        "for x in x_test_data:\n",
        "    X.append(x)\n",
        "\n",
        "for yo in y_data.tolist():\n",
        "    if yo == 0:\n",
        "        y.append([1, 0, 0, 0, 0, 0, 0])\n",
        "    if yo == 1:\n",
        "        y.append([0, 1, 0, 0, 0, 0, 0])\n",
        "    if yo == 2:\n",
        "        y.append([0, 0, 1, 0, 0, 0, 0])\n",
        "    if yo == 3:\n",
        "        y.append([0, 0, 0, 1, 0, 0, 0])\n",
        "    if yo == 4:\n",
        "        y.append([0, 0, 0, 0, 1, 0, 0])\n",
        "    if yo == 5:\n",
        "        y.append([0, 0, 0, 0, 0, 1, 0])\n",
        "    if yo == 6:\n",
        "        y.append([0, 0, 0, 0, 0, 0, 1])\n",
        "\n",
        "X = np.asarray(X)\n",
        "y = np.asarray(y)"
      ],
      "execution_count": null,
      "outputs": []
    },
    {
      "cell_type": "code",
      "metadata": {
        "id": "-Sbu6Snm6alG"
      },
      "source": [
        "def eval_genomes(genomes, config):\n",
        "    for genome_id, genome in genomes:\n",
        "        genome.fitness = 0.0\n",
        "        net = neat.nn.RecurrentNetwork.create(genome, config)\n",
        "        for xi, yo in zip(X, y):\n",
        "            output = net.activate(xi)\n",
        "            if (np.argmax(yo) == np.argmax(output)):\n",
        "                genome.fitness += 1.0\n",
        "        genome.fitness /= len(X)\n",
        "  \n",
        "def run(config_file):\n",
        "    config = neat.Config(neat.DefaultGenome, neat.DefaultReproduction,\n",
        "                        neat.DefaultSpeciesSet, neat.DefaultStagnation,\n",
        "                        config_file)\n",
        "    p = neat.Population(config)\n",
        "    p.add_reporter(neat.StdOutReporter(True))\n",
        "    stats = neat.StatisticsReporter()\n",
        "    p.add_reporter(stats)\n",
        "\n",
        "    winner = p.run(eval_genomes, 10000)\n",
        "    \n",
        "    file1 = open(\"results.txt\", \"w\")\n",
        "    file1.write('\\nBest genome:\\n{!s}'.format(winner))\n",
        "    file1.close()\n",
        "    winner_net = neat.nn.RecurrentNetwork.create(winner, config)\n",
        "    accuracy = 0.0\n",
        "    for xi, yo in zip(X, y):\n",
        "        output = winner_net.activate(xi)\n",
        "        if (np.argmax(yo) == np.argmax(output)):\n",
        "            accuracy += 1\n",
        "    print(\"\\nAccuracy: \", accuracy/len(y))\n",
        "\n",
        "run('drive/MyDrive/neat-config/config-feedfordward.txt')"
      ],
      "execution_count": null,
      "outputs": []
    }
  ]
}